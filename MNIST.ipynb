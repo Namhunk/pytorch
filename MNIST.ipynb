{
 "cells": [
  {
   "cell_type": "code",
   "execution_count": 12,
   "id": "83e35d6c-d4e8-4901-a6d4-f61157779ce9",
   "metadata": {},
   "outputs": [],
   "source": [
    "import numpy as np\n",
    "import matplotlib.pyplot as plt\n",
    "%matplotlib inline"
   ]
  },
  {
   "cell_type": "code",
   "execution_count": 13,
   "id": "6f873d57-65e6-4254-a615-9531633a12b4",
   "metadata": {},
   "outputs": [],
   "source": [
    "import torch\n",
    "import torch.nn as nn\n",
    "import torch.nn.functional as F\n",
    "from torchvision import transforms, datasets"
   ]
  },
  {
   "cell_type": "code",
   "execution_count": 14,
   "id": "ed7d1c81-7117-4a20-af83-4f8d1e62ff59",
   "metadata": {},
   "outputs": [],
   "source": [
    "device = torch.device(\"mps:0\" if torch.backends.mps.is_available() else \"cpu\")"
   ]
  },
  {
   "cell_type": "code",
   "execution_count": 15,
   "id": "e4e57759-398e-4150-8a58-46bd36d70bec",
   "metadata": {},
   "outputs": [],
   "source": [
    "batch_size = 32\n",
    "epochs = 10"
   ]
  },
  {
   "cell_type": "code",
   "execution_count": 18,
   "id": "c0b6cd9f-b656-4795-ae96-9475b6202f70",
   "metadata": {},
   "outputs": [
    {
     "name": "stdout",
     "output_type": "stream",
     "text": [
      "Downloading http://yann.lecun.com/exdb/mnist/train-images-idx3-ubyte.gz\n",
      "Failed to download (trying next):\n",
      "HTTP Error 403: Forbidden\n",
      "\n",
      "Downloading https://ossci-datasets.s3.amazonaws.com/mnist/train-images-idx3-ubyte.gz\n",
      "Downloading https://ossci-datasets.s3.amazonaws.com/mnist/train-images-idx3-ubyte.gz to ../data/MNIST/MNIST/raw/train-images-idx3-ubyte.gz\n"
     ]
    },
    {
     "name": "stderr",
     "output_type": "stream",
     "text": [
      "100%|████████████████████████████| 9912422/9912422 [00:03<00:00, 2587373.71it/s]\n"
     ]
    },
    {
     "name": "stdout",
     "output_type": "stream",
     "text": [
      "Extracting ../data/MNIST/MNIST/raw/train-images-idx3-ubyte.gz to ../data/MNIST/MNIST/raw\n",
      "\n",
      "Downloading http://yann.lecun.com/exdb/mnist/train-labels-idx1-ubyte.gz\n",
      "Failed to download (trying next):\n",
      "HTTP Error 403: Forbidden\n",
      "\n",
      "Downloading https://ossci-datasets.s3.amazonaws.com/mnist/train-labels-idx1-ubyte.gz\n",
      "Downloading https://ossci-datasets.s3.amazonaws.com/mnist/train-labels-idx1-ubyte.gz to ../data/MNIST/MNIST/raw/train-labels-idx1-ubyte.gz\n"
     ]
    },
    {
     "name": "stderr",
     "output_type": "stream",
     "text": [
      "100%|█████████████████████████████████| 28881/28881 [00:00<00:00, 144969.56it/s]\n"
     ]
    },
    {
     "name": "stdout",
     "output_type": "stream",
     "text": [
      "Extracting ../data/MNIST/MNIST/raw/train-labels-idx1-ubyte.gz to ../data/MNIST/MNIST/raw\n",
      "\n",
      "Downloading http://yann.lecun.com/exdb/mnist/t10k-images-idx3-ubyte.gz\n",
      "Failed to download (trying next):\n",
      "HTTP Error 403: Forbidden\n",
      "\n",
      "Downloading https://ossci-datasets.s3.amazonaws.com/mnist/t10k-images-idx3-ubyte.gz\n",
      "Downloading https://ossci-datasets.s3.amazonaws.com/mnist/t10k-images-idx3-ubyte.gz to ../data/MNIST/MNIST/raw/t10k-images-idx3-ubyte.gz\n"
     ]
    },
    {
     "name": "stderr",
     "output_type": "stream",
     "text": [
      "100%|████████████████████████████| 1648877/1648877 [00:01<00:00, 1499652.71it/s]\n"
     ]
    },
    {
     "name": "stdout",
     "output_type": "stream",
     "text": [
      "Extracting ../data/MNIST/MNIST/raw/t10k-images-idx3-ubyte.gz to ../data/MNIST/MNIST/raw\n",
      "\n",
      "Downloading http://yann.lecun.com/exdb/mnist/t10k-labels-idx1-ubyte.gz\n",
      "Failed to download (trying next):\n",
      "HTTP Error 403: Forbidden\n",
      "\n",
      "Downloading https://ossci-datasets.s3.amazonaws.com/mnist/t10k-labels-idx1-ubyte.gz\n",
      "Downloading https://ossci-datasets.s3.amazonaws.com/mnist/t10k-labels-idx1-ubyte.gz to ../data/MNIST/MNIST/raw/t10k-labels-idx1-ubyte.gz\n"
     ]
    },
    {
     "name": "stderr",
     "output_type": "stream",
     "text": [
      "100%|██████████████████████████████████| 4542/4542 [00:00<00:00, 1061665.67it/s]"
     ]
    },
    {
     "name": "stdout",
     "output_type": "stream",
     "text": [
      "Extracting ../data/MNIST/MNIST/raw/t10k-labels-idx1-ubyte.gz to ../data/MNIST/MNIST/raw\n",
      "\n"
     ]
    },
    {
     "name": "stderr",
     "output_type": "stream",
     "text": [
      "\n"
     ]
    }
   ],
   "source": [
    "train_dataset = datasets.MNIST(root = \"../data/MNIST\",\n",
    "                              train = True,\n",
    "                              download = True,\n",
    "                              transform = transforms.ToTensor())\n",
    "\n",
    "test_dataset = datasets.MNIST(root = \"../data/MNIST\",\n",
    "                             train = False,\n",
    "                             download = True,\n",
    "                             transform = transforms.ToTensor())\n",
    "\n",
    "train_loader = torch.utils.data.DataLoader(dataset = train_dataset,\n",
    "                                           batch_size= batch_size,\n",
    "                                           shuffle = True)\n",
    "\n",
    "test_loader = torch.utils.data.DataLoader(dataset = test_dataset,\n",
    "                                          batch_size = batch_size,\n",
    "                                          shuffle = False)"
   ]
  },
  {
   "cell_type": "code",
   "execution_count": 20,
   "id": "72037fb7-eaa3-4115-b4d1-c664c90f8cda",
   "metadata": {},
   "outputs": [
    {
     "name": "stdout",
     "output_type": "stream",
     "text": [
      "x_train: torch.Size([32, 1, 28, 28]) type: torch.FloatTensor\n",
      "y_train: torch.Size([32]) type: torch.LongTensor\n"
     ]
    }
   ],
   "source": [
    "for x_train, y_train in train_loader:\n",
    "    print(f'x_train: {x_train.size()} type: {x_train.type()}')\n",
    "    print(f'y_train: {y_train.size()} type: {y_train.type()}')\n",
    "    break"
   ]
  },
  {
   "cell_type": "code",
   "execution_count": 21,
   "id": "02ffa93b-df26-423a-98a4-86a997773ccf",
   "metadata": {},
   "outputs": [
    {
     "name": "stdout",
     "output_type": "stream",
     "text": [
      "1875 60000\n"
     ]
    }
   ],
   "source": [
    "print(len(train_loader), len(train_dataset))"
   ]
  },
  {
   "cell_type": "code",
   "execution_count": 28,
   "id": "3dcc734a-fe7c-4e63-9174-922d072bdf92",
   "metadata": {},
   "outputs": [
    {
     "data": {
      "image/png": "[encoded data removed]",
      "text/plain": [
       "<Figure size 1000x100 with 10 Axes>"
      ]
     },
     "metadata": {},
     "output_type": "display_data"
    }
   ],
   "source": [
    "pltsize = 1\n",
    "plt.figure(figsize=(10*pltsize, pltsize))\n",
    "\n",
    "for i in range(10):\n",
    "    plt.subplot(1, 10, i+1)\n",
    "    plt.axis('off')\n",
    "    plt.imshow(x_train[i, :, :, :].numpy().reshape(28, 28), cmap=\"gray_r\")\n",
    "    plt.title('class: ' + str(y_train[i].item()))"
   ]
  },
  {
   "cell_type": "code",
   "execution_count": 30,
   "id": "bf5a962c-a925-45c3-8281-d0468ea3a8b9",
   "metadata": {},
   "outputs": [],
   "source": [
    "class Net(nn.Module):\n",
    "    def __init__(self):\n",
    "        super(Net, self).__init__()\n",
    "        self.fc1 = nn.Linear(28*28, 512)\n",
    "        self.fc2 = nn.Linear(512, 256)\n",
    "        self.fc3 = nn.Linear(256, 10)\n",
    "\n",
    "    def forward(self, x):\n",
    "        x = x.view(-1, 28*28)\n",
    "        x = self.fc1(x)\n",
    "        x = F.sigmoid(x)\n",
    "        x = self.fc2(x)\n",
    "        x = F.sigmoid(x)\n",
    "        x = self.fc3(x)\n",
    "        x = F.log_softmax(x, dim=1)\n",
    "        return x"
   ]
  },
  {
   "cell_type": "code",
   "execution_count": 31,
   "id": "8b598b76-52bc-4a92-8e96-111f8ee97733",
   "metadata": {},
   "outputs": [
    {
     "name": "stdout",
     "output_type": "stream",
     "text": [
      "Net(\n",
      "  (fc1): Linear(in_features=784, out_features=512, bias=True)\n",
      "  (fc2): Linear(in_features=512, out_features=256, bias=True)\n",
      "  (fc3): Linear(in_features=256, out_features=10, bias=True)\n",
      ")\n"
     ]
    }
   ],
   "source": [
    "model = Net().to(device)\n",
    "optimizer = torch.optim.SGD(model.parameters(), lr=0.01, momentum=0.5)\n",
    "criterion = nn.CrossEntropyLoss()\n",
    "\n",
    "print(model)"
   ]
  },
  {
   "cell_type": "code",
   "execution_count": 35,
   "id": "e570a229-3023-4e37-94d2-29088f8c3aea",
   "metadata": {},
   "outputs": [],
   "source": [
    "def train(model, train_loader, optimizer, log_interval):\n",
    "    model.train()\n",
    "    for batch_idx, (image, label) in enumerate(train_loader):\n",
    "        image = image.to(device)\n",
    "        label = label.to(device)\n",
    "        optimizer.zero_grad()\n",
    "        output = model(image)\n",
    "        loss = criterion(output, label)\n",
    "        loss.backward()\n",
    "        optimizer.step()\n",
    "\n",
    "        if batch_idx % log_interval == 0:\n",
    "            print(f'train epoch: {epoch} [{batch_idx*len(image)}/{len(train_loader.dataset)} ({100.*batch_idx/len(train_loader):.0f}%)]\\ttrain loss: {loss.item():.6f}')"
   ]
  },
  {
   "cell_type": "code",
   "execution_count": 39,
   "id": "739e0346-8bcc-4942-91ff-33c5218c4f57",
   "metadata": {},
   "outputs": [],
   "source": [
    "def evaluate(model, test_loader):\n",
    "    model.eval()\n",
    "    test_loss = 0\n",
    "    correct = 0\n",
    "\n",
    "    with torch.no_grad():\n",
    "        for image, label in test_loader:\n",
    "            image = image.to(device)\n",
    "            label = label.to(device)\n",
    "            output = model(image)\n",
    "            test_loss = criterion(output, label).item()\n",
    "            prediction = output.max(1, keepdim=True)[1]\n",
    "            correct += prediction.eq(label.view_as(prediction)).sum().item()\n",
    "\n",
    "    test_loss /= (len(test_loader.dataset)/batch_size)\n",
    "    test_accuracy = 100. * correct/len(test_loader.dataset)\n",
    "    return test_loss, test_accuracy\n",
    "            "
   ]
  },
  {
   "cell_type": "code",
   "execution_count": 40,
   "id": "d576a72a-8260-4206-b5b5-7bff9927e6b2",
   "metadata": {},
   "outputs": [
    {
     "name": "stdout",
     "output_type": "stream",
     "text": [
      "train epoch: 1 [0/60000 (0%)]\ttrain loss: 2.240489\n",
      "train epoch: 1 [6400/60000 (11%)]\ttrain loss: 2.186357\n",
      "train epoch: 1 [12800/60000 (21%)]\ttrain loss: 2.224921\n",
      "train epoch: 1 [19200/60000 (32%)]\ttrain loss: 2.077679\n",
      "train epoch: 1 [25600/60000 (43%)]\ttrain loss: 1.983721\n",
      "train epoch: 1 [32000/60000 (53%)]\ttrain loss: 2.003875\n",
      "train epoch: 1 [38400/60000 (64%)]\ttrain loss: 1.712066\n",
      "train epoch: 1 [44800/60000 (75%)]\ttrain loss: 1.466325\n",
      "train epoch: 1 [51200/60000 (85%)]\ttrain loss: 1.395115\n",
      "train epoch: 1 [57600/60000 (96%)]\ttrain loss: 1.517393\n",
      "\n",
      "[epoch: 1], \ttest loss: 0.0037, \ttest accuracy: 61.1700\n",
      "train epoch: 2 [0/60000 (0%)]\ttrain loss: 1.162384\n",
      "train epoch: 2 [6400/60000 (11%)]\ttrain loss: 1.133830\n",
      "train epoch: 2 [12800/60000 (21%)]\ttrain loss: 0.986532\n",
      "train epoch: 2 [19200/60000 (32%)]\ttrain loss: 1.152238\n",
      "train epoch: 2 [25600/60000 (43%)]\ttrain loss: 1.062699\n",
      "train epoch: 2 [32000/60000 (53%)]\ttrain loss: 1.136755\n",
      "train epoch: 2 [38400/60000 (64%)]\ttrain loss: 0.680738\n",
      "train epoch: 2 [44800/60000 (75%)]\ttrain loss: 0.798370\n",
      "train epoch: 2 [51200/60000 (85%)]\ttrain loss: 0.884666\n",
      "train epoch: 2 [57600/60000 (96%)]\ttrain loss: 0.916985\n",
      "\n",
      "[epoch: 2], \ttest loss: 0.0020, \ttest accuracy: 77.1100\n",
      "train epoch: 3 [0/60000 (0%)]\ttrain loss: 0.887354\n",
      "train epoch: 3 [6400/60000 (11%)]\ttrain loss: 0.800305\n",
      "train epoch: 3 [12800/60000 (21%)]\ttrain loss: 0.861265\n",
      "train epoch: 3 [19200/60000 (32%)]\ttrain loss: 0.529505\n",
      "train epoch: 3 [25600/60000 (43%)]\ttrain loss: 0.692319\n",
      "train epoch: 3 [32000/60000 (53%)]\ttrain loss: 0.663123\n",
      "train epoch: 3 [38400/60000 (64%)]\ttrain loss: 0.966499\n",
      "train epoch: 3 [44800/60000 (75%)]\ttrain loss: 0.872940\n",
      "train epoch: 3 [51200/60000 (85%)]\ttrain loss: 0.892532\n",
      "train epoch: 3 [57600/60000 (96%)]\ttrain loss: 0.584761\n",
      "\n",
      "[epoch: 3], \ttest loss: 0.0012, \ttest accuracy: 84.1700\n",
      "train epoch: 4 [0/60000 (0%)]\ttrain loss: 0.575342\n",
      "train epoch: 4 [6400/60000 (11%)]\ttrain loss: 0.442867\n",
      "train epoch: 4 [12800/60000 (21%)]\ttrain loss: 0.484782\n",
      "train epoch: 4 [19200/60000 (32%)]\ttrain loss: 0.599329\n",
      "train epoch: 4 [25600/60000 (43%)]\ttrain loss: 0.632881\n",
      "train epoch: 4 [32000/60000 (53%)]\ttrain loss: 0.730047\n",
      "train epoch: 4 [38400/60000 (64%)]\ttrain loss: 0.453648\n",
      "train epoch: 4 [44800/60000 (75%)]\ttrain loss: 0.383247\n",
      "train epoch: 4 [51200/60000 (85%)]\ttrain loss: 0.371387\n",
      "train epoch: 4 [57600/60000 (96%)]\ttrain loss: 0.292873\n",
      "\n",
      "[epoch: 4], \ttest loss: 0.0009, \ttest accuracy: 87.0300\n",
      "train epoch: 5 [0/60000 (0%)]\ttrain loss: 0.334093\n",
      "train epoch: 5 [6400/60000 (11%)]\ttrain loss: 0.386678\n",
      "train epoch: 5 [12800/60000 (21%)]\ttrain loss: 0.285935\n",
      "train epoch: 5 [19200/60000 (32%)]\ttrain loss: 0.398118\n",
      "train epoch: 5 [25600/60000 (43%)]\ttrain loss: 0.292844\n",
      "train epoch: 5 [32000/60000 (53%)]\ttrain loss: 0.224549\n",
      "train epoch: 5 [38400/60000 (64%)]\ttrain loss: 0.506293\n",
      "train epoch: 5 [44800/60000 (75%)]\ttrain loss: 0.551123\n",
      "train epoch: 5 [51200/60000 (85%)]\ttrain loss: 0.369471\n",
      "train epoch: 5 [57600/60000 (96%)]\ttrain loss: 0.361223\n",
      "\n",
      "[epoch: 5], \ttest loss: 0.0007, \ttest accuracy: 88.0900\n",
      "train epoch: 6 [0/60000 (0%)]\ttrain loss: 0.385879\n",
      "train epoch: 6 [6400/60000 (11%)]\ttrain loss: 0.275008\n",
      "train epoch: 6 [12800/60000 (21%)]\ttrain loss: 0.385155\n",
      "train epoch: 6 [19200/60000 (32%)]\ttrain loss: 0.397538\n",
      "train epoch: 6 [25600/60000 (43%)]\ttrain loss: 0.442440\n",
      "train epoch: 6 [32000/60000 (53%)]\ttrain loss: 0.249824\n",
      "train epoch: 6 [38400/60000 (64%)]\ttrain loss: 0.360862\n",
      "train epoch: 6 [44800/60000 (75%)]\ttrain loss: 0.374415\n",
      "train epoch: 6 [51200/60000 (85%)]\ttrain loss: 0.595464\n",
      "train epoch: 6 [57600/60000 (96%)]\ttrain loss: 0.607983\n",
      "\n",
      "[epoch: 6], \ttest loss: 0.0006, \ttest accuracy: 88.9500\n",
      "train epoch: 7 [0/60000 (0%)]\ttrain loss: 0.281399\n",
      "train epoch: 7 [6400/60000 (11%)]\ttrain loss: 0.171215\n",
      "train epoch: 7 [12800/60000 (21%)]\ttrain loss: 0.672829\n",
      "train epoch: 7 [19200/60000 (32%)]\ttrain loss: 0.269220\n",
      "train epoch: 7 [25600/60000 (43%)]\ttrain loss: 0.438519\n",
      "train epoch: 7 [32000/60000 (53%)]\ttrain loss: 0.140450\n",
      "train epoch: 7 [38400/60000 (64%)]\ttrain loss: 0.592610\n",
      "train epoch: 7 [44800/60000 (75%)]\ttrain loss: 0.525771\n",
      "train epoch: 7 [51200/60000 (85%)]\ttrain loss: 0.389527\n",
      "train epoch: 7 [57600/60000 (96%)]\ttrain loss: 0.350314\n",
      "\n",
      "[epoch: 7], \ttest loss: 0.0006, \ttest accuracy: 89.4500\n",
      "train epoch: 8 [0/60000 (0%)]\ttrain loss: 0.252658\n",
      "train epoch: 8 [6400/60000 (11%)]\ttrain loss: 0.355083\n",
      "train epoch: 8 [12800/60000 (21%)]\ttrain loss: 0.515985\n",
      "train epoch: 8 [19200/60000 (32%)]\ttrain loss: 0.113920\n",
      "train epoch: 8 [25600/60000 (43%)]\ttrain loss: 0.144895\n",
      "train epoch: 8 [32000/60000 (53%)]\ttrain loss: 0.466981\n",
      "train epoch: 8 [38400/60000 (64%)]\ttrain loss: 0.186676\n",
      "train epoch: 8 [44800/60000 (75%)]\ttrain loss: 0.260892\n",
      "train epoch: 8 [51200/60000 (85%)]\ttrain loss: 0.300210\n",
      "train epoch: 8 [57600/60000 (96%)]\ttrain loss: 0.465536\n",
      "\n",
      "[epoch: 8], \ttest loss: 0.0005, \ttest accuracy: 89.8400\n",
      "train epoch: 9 [0/60000 (0%)]\ttrain loss: 0.395438\n",
      "train epoch: 9 [6400/60000 (11%)]\ttrain loss: 0.298637\n",
      "train epoch: 9 [12800/60000 (21%)]\ttrain loss: 0.444376\n",
      "train epoch: 9 [19200/60000 (32%)]\ttrain loss: 0.562696\n",
      "train epoch: 9 [25600/60000 (43%)]\ttrain loss: 0.400559\n",
      "train epoch: 9 [32000/60000 (53%)]\ttrain loss: 0.845325\n",
      "train epoch: 9 [38400/60000 (64%)]\ttrain loss: 0.833406\n",
      "train epoch: 9 [44800/60000 (75%)]\ttrain loss: 0.114476\n",
      "train epoch: 9 [51200/60000 (85%)]\ttrain loss: 0.367127\n",
      "train epoch: 9 [57600/60000 (96%)]\ttrain loss: 0.114587\n",
      "\n",
      "[epoch: 9], \ttest loss: 0.0005, \ttest accuracy: 90.2200\n",
      "train epoch: 10 [0/60000 (0%)]\ttrain loss: 0.425825\n",
      "train epoch: 10 [6400/60000 (11%)]\ttrain loss: 0.424472\n",
      "train epoch: 10 [12800/60000 (21%)]\ttrain loss: 0.264704\n",
      "train epoch: 10 [19200/60000 (32%)]\ttrain loss: 0.254395\n",
      "train epoch: 10 [25600/60000 (43%)]\ttrain loss: 0.215328\n",
      "train epoch: 10 [32000/60000 (53%)]\ttrain loss: 0.354173\n",
      "train epoch: 10 [38400/60000 (64%)]\ttrain loss: 0.388685\n",
      "train epoch: 10 [44800/60000 (75%)]\ttrain loss: 0.250532\n",
      "train epoch: 10 [51200/60000 (85%)]\ttrain loss: 0.165899\n",
      "train epoch: 10 [57600/60000 (96%)]\ttrain loss: 0.196357\n",
      "\n",
      "[epoch: 10], \ttest loss: 0.0006, \ttest accuracy: 90.3900\n"
     ]
    }
   ],
   "source": [
    "for epoch in range(1, epochs+1):\n",
    "    train(model, train_loader, optimizer, log_interval = 200)\n",
    "    test_loss, test_accuracy = evaluate(model, test_loader)\n",
    "    print(f'\\n[epoch: {epoch}], \\ttest loss: {test_loss:.4f}, \\ttest accuracy: {test_accuracy:.4f}')"
   ]
  },
  {
   "cell_type": "code",
   "execution_count": null,
   "id": "c79a25eb-2514-4062-b3d0-399497fe8ea0",
   "metadata": {},
   "outputs": [],
   "source": []
  }
 ],
 "metadata": {
  "kernelspec": {
   "display_name": "Python 3",
   "language": "python",
   "name": "python3"
  },
  "language_info": {
   "codemirror_mode": {
    "name": "ipython",
    "version": 3
   },
   "file_extension": ".py",
   "mimetype": "text/x-python",
   "name": "python",
   "nbconvert_exporter": "python",
   "pygments_lexer": "ipython3",
   "version": "3.11.7"
  }
 },
 "nbformat": 4,
 "nbformat_minor": 5
}
