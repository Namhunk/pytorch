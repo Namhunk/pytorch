{
 "cells": [
  {
   "cell_type": "code",
   "execution_count": 1,
   "id": "67124989-65c2-48f3-8142-160b07b23d6a",
   "metadata": {},
   "outputs": [],
   "source": [
    "import numpy as np\n",
    "import pandas as pd\n",
    "import matplotlib.pyplot as plt\n",
    "%matplotlib inline"
   ]
  },
  {
   "cell_type": "code",
   "execution_count": 2,
   "id": "2c8c77c5-6226-4f3f-8db3-1a9ea11394be",
   "metadata": {},
   "outputs": [],
   "source": [
    "df_train = pd.read_csv('train.csv')\n",
    "df_test = pd.read_csv('test.csv')\n",
    "df_sub = pd.read_csv('gender_submission.csv')"
   ]
  },
  {
   "cell_type": "markdown",
   "id": "28265018-425e-4bf8-ac57-c4d2774d0e81",
   "metadata": {},
   "source": [
    "df_train 데이터"
   ]
  },
  {
   "cell_type": "code",
   "execution_count": 3,
   "id": "a431ff87-c479-4753-9c86-bb956d23f5df",
   "metadata": {},
   "outputs": [],
   "source": [
    "Name_list = set(['Dr', 'Master', 'Miss', 'Mr', 'Mrs', 'Ms'])\n",
    "for i in range(len(df_train)):\n",
    "    start = df_train.loc[i, 'Name'].index(',')\n",
    "    end = df_train.loc[i, 'Name'].index('.')\n",
    "    Name = df_train.loc[i, 'Name'][start+1:end].strip()\n",
    "\n",
    "    if Name in Name_list: df_train.loc[i, 'Name'] = Name\n",
    "    else: df_train.loc[i, 'Name'] = 'No'\n",
    "\n",
    "female_mean_age = df_train['Age'][df_train['Sex'] == 'female'].mean()\n",
    "male_mean_age = df_train['Age'][df_train['Sex'] == 'male'].mean()\n",
    "\n",
    "df_train.loc[df_train['Sex'] == 'female', 'Age'] = df_train.loc[df_train['Sex'] == 'female', 'Age'].fillna(female_mean_age)\n",
    "df_train.loc[df_train['Sex'] == 'male', 'Age'] = df_train.loc[df_train['Sex'] == 'male', 'Age'].fillna(male_mean_age)\n",
    "\n",
    "df_train['Embarked'].fillna(df_train['Embarked'].mode()[0], inplace=True)\n",
    "df_train.drop(['Ticket', 'Cabin'], axis=1, inplace=True)\n",
    "\n",
    "df_train = pd.get_dummies(df_train, columns=['Pclass', 'Name', 'Sex', 'Embarked'], drop_first=True)"
   ]
  },
  {
   "cell_type": "markdown",
   "id": "d2329da2-8fbe-4bc4-8994-61aa2b7bb369",
   "metadata": {},
   "source": [
    "df_test 데이터"
   ]
  },
  {
   "cell_type": "code",
   "execution_count": 4,
   "id": "f8e5d714-96d3-4c22-8e7f-ec7c914acfc2",
   "metadata": {},
   "outputs": [],
   "source": [
    "Name_list = set(['Dr', 'Master', 'Miss', 'Mr', 'Mrs', 'Ms'])\n",
    "for i in range(len(df_test)):\n",
    "    start = df_test.loc[i, 'Name'].index(',')\n",
    "    end = df_test.loc[i, 'Name'].index('.')\n",
    "    Name = df_test.loc[i, 'Name'][start+1:end].strip()\n",
    "\n",
    "    if Name in Name_list: df_test.loc[i, 'Name'] = Name\n",
    "    else: df_test.loc[i, 'Name'] = 'No'\n",
    "\n",
    "female_mean_age = df_test['Age'][df_test['Sex'] == 'female'].mean()\n",
    "male_mean_age = df_test['Age'][df_test['Sex'] == 'male'].mean()\n",
    "\n",
    "df_test.loc[df_test['Sex'] == 'female', 'Age'] = df_test.loc[df_test['Sex'] == 'female', 'Age'].fillna(female_mean_age)\n",
    "df_test.loc[df_test['Sex'] == 'male', 'Age'] = df_test.loc[df_test['Sex'] == 'male', 'Age'].fillna(male_mean_age)\n",
    "\n",
    "df_test['Embarked'].fillna(df_test['Embarked'].mode()[0], inplace=True)\n",
    "df_test.drop(['Ticket', 'Cabin'], axis=1, inplace=True)\n",
    "df_test = pd.get_dummies(df_test, columns=['Pclass', 'Name', 'Sex', 'Embarked'], drop_first=True)"
   ]
  },
  {
   "cell_type": "code",
   "execution_count": 5,
   "id": "b5e0615c-7726-40c0-a295-c2bcd34652b1",
   "metadata": {},
   "outputs": [
    {
     "data": {
      "text/plain": [
       "device(type='mps', index=0)"
      ]
     },
     "execution_count": 5,
     "metadata": {},
     "output_type": "execute_result"
    }
   ],
   "source": [
    "import torch\n",
    "import torch.nn as nn\n",
    "from torch.utils.data import Dataset, DataLoader\n",
    "from torchvision import transforms\n",
    "\n",
    "device = torch.device(\"mps:0\" if torch.backends.mps.is_available() else \"cpu\")\n",
    "device"
   ]
  },
  {
   "cell_type": "code",
   "execution_count": 6,
   "id": "77435ea7-f626-4d05-be7a-2c6494078555",
   "metadata": {},
   "outputs": [],
   "source": [
    "x_train = df_train.iloc[:, 2:].values.astype('float32')\n",
    "y_train = df_train.loc[:, 'Survived'].values.astype('long')\n",
    "\n",
    "x_train = torch.tensor(x_train)\n",
    "y_train = torch.tensor(y_train)"
   ]
  },
  {
   "cell_type": "code",
   "execution_count": 7,
   "id": "c2476b91-0ef6-45bb-a280-ba0a28e9befd",
   "metadata": {},
   "outputs": [],
   "source": [
    "class Dataset(Dataset):\n",
    "    def __init__(self, x_data, y_data):\n",
    "        self.x_data = x_data\n",
    "        self.y_data = y_data\n",
    "\n",
    "    def __len__(self):\n",
    "        return len(self.x_data)\n",
    "\n",
    "    def __getitem__(self, idx):\n",
    "        return self.x_data[idx], self.y_data[idx]\n",
    "\n",
    "train_dataset = Dataset(x_train, y_train)\n",
    "train_loader = DataLoader(train_dataset, batch_size=64, shuffle=True)"
   ]
  },
  {
   "cell_type": "code",
   "execution_count": 8,
   "id": "24a6fe86-2d97-4d23-891b-26aac4491780",
   "metadata": {},
   "outputs": [
    {
     "data": {
      "text/plain": [
       "Net(\n",
       "  (fc1): Linear(in_features=15, out_features=512, bias=True)\n",
       "  (fc2): Linear(in_features=512, out_features=512, bias=True)\n",
       "  (fc3): Linear(in_features=512, out_features=64, bias=True)\n",
       "  (fc4): Linear(in_features=64, out_features=2, bias=True)\n",
       "  (relu): ReLU()\n",
       "  (dropout): Dropout(p=0.2, inplace=False)\n",
       "  (sigmoid): Sigmoid()\n",
       ")"
      ]
     },
     "execution_count": 8,
     "metadata": {},
     "output_type": "execute_result"
    }
   ],
   "source": [
    "class Net(nn.Module):\n",
    "    def __init__(self):\n",
    "        super(Net, self).__init__()\n",
    "        self.fc1 = nn.Linear(15, 512)\n",
    "        self.fc2 = nn.Linear(512, 512)\n",
    "        self.fc3 = nn.Linear(512, 64)\n",
    "        self.fc4 = nn.Linear(64, 2)\n",
    "        self.relu = nn.ReLU()\n",
    "        self.dropout = nn.Dropout(0.2)\n",
    "        self.sigmoid = nn.Sigmoid()\n",
    "    def forward(self, x):\n",
    "        x = self.fc1(x)\n",
    "        x = self.dropout(x)\n",
    "        x = self.relu(x)\n",
    "        x = self.fc2(x)\n",
    "        x = self.dropout(x)\n",
    "        x = self.relu(x)\n",
    "        x = self.fc3(x)\n",
    "        x = self.dropout(x)\n",
    "        x = self.relu(x)\n",
    "        x = self.fc4(x)\n",
    "        x = self.sigmoid(x)\n",
    "        return x\n",
    "\n",
    "model = Net().to(device)\n",
    "model"
   ]
  },
  {
   "cell_type": "code",
   "execution_count": 9,
   "id": "519f101b-26e2-4862-81f8-8b1b6f2ba71e",
   "metadata": {},
   "outputs": [],
   "source": [
    "criterion = nn.CrossEntropyLoss()\n",
    "optimizer = torch.optim.Adam(model.parameters(), lr=0.001)"
   ]
  },
  {
   "cell_type": "code",
   "execution_count": 10,
   "id": "f0326f12-2b67-4e91-93d9-3d15fe975b95",
   "metadata": {},
   "outputs": [
    {
     "name": "stdout",
     "output_type": "stream",
     "text": [
      "Validation loss decreased (inf -> 0.624711). Saving the model..\n",
      "Validation loss decreased (0.624711 -> 0.613815). Saving the model..\n",
      "Validation loss decreased (0.613815 -> 0.601794). Saving the model..\n",
      "Validation loss decreased (0.601794 -> 0.595499). Saving the model..\n",
      "Validation loss decreased (0.595499 -> 0.593767). Saving the model..\n",
      "Validation loss decreased (0.593767 -> 0.584147). Saving the model..\n",
      "Validation loss decreased (0.584147 -> 0.570252). Saving the model..\n",
      "Validation loss decreased (0.570252 -> 0.544651). Saving the model..\n",
      "Validation loss decreased (0.544651 -> 0.542816). Saving the model..\n",
      "Validation loss decreased (0.542816 -> 0.521987). Saving the model..\n",
      "Validation loss decreased (0.521987 -> 0.517699). Saving the model..\n",
      "Validation loss decreased (0.517699 -> 0.511349). Saving the model..\n",
      "Validation loss decreased (0.511349 -> 0.510011). Saving the model..\n",
      "Validation loss decreased (0.510011 -> 0.507305). Saving the model..\n",
      "Validation loss decreased (0.507305 -> 0.500839). Saving the model..\n",
      "Validation loss decreased (0.500839 -> 0.500761). Saving the model..\n",
      "Validation loss decreased (0.500761 -> 0.500170). Saving the model..\n",
      "Validation loss decreased (0.500170 -> 0.497185). Saving the model..\n",
      "Validation loss decreased (0.497185 -> 0.494138). Saving the model..\n",
      "Validation loss decreased (0.494138 -> 0.489492). Saving the model..\n",
      "Validation loss decreased (0.489492 -> 0.488881). Saving the model..\n",
      "Validation loss decreased (0.488881 -> 0.488391). Saving the model..\n",
      "Validation loss decreased (0.488391 -> 0.485008). Saving the model..\n",
      "Validation loss decreased (0.485008 -> 0.484788). Saving the model..\n",
      "Validation loss decreased (0.484788 -> 0.482313). Saving the model..\n",
      "Validation loss decreased (0.482313 -> 0.480225). Saving the model..\n",
      "Validation loss decreased (0.480225 -> 0.477549). Saving the model..\n",
      "Validation loss decreased (0.477549 -> 0.477195). Saving the model..\n",
      "Validation loss decreased (0.477195 -> 0.472311). Saving the model..\n",
      "Epoch: 100 \tTraining Loss: 0.474395 \tTraining Accuracy: 83.39%\n",
      "Validation loss decreased (0.472311 -> 0.470485). Saving the model..\n",
      "Validation loss decreased (0.470485 -> 0.468586). Saving the model..\n",
      "Validation loss decreased (0.468586 -> 0.466950). Saving the model..\n",
      "Validation loss decreased (0.466950 -> 0.464290). Saving the model..\n",
      "Validation loss decreased (0.464290 -> 0.463906). Saving the model..\n",
      "Validation loss decreased (0.463906 -> 0.463037). Saving the model..\n",
      "Validation loss decreased (0.463037 -> 0.461155). Saving the model..\n",
      "Validation loss decreased (0.461155 -> 0.459581). Saving the model..\n",
      "Validation loss decreased (0.459581 -> 0.459199). Saving the model..\n",
      "Validation loss decreased (0.459199 -> 0.459005). Saving the model..\n",
      "Validation loss decreased (0.459005 -> 0.458226). Saving the model..\n",
      "Validation loss decreased (0.458226 -> 0.456612). Saving the model..\n",
      "Validation loss decreased (0.456612 -> 0.455791). Saving the model..\n",
      "Epoch: 200 \tTraining Loss: 0.463566 \tTraining Accuracy: 84.74%\n",
      "Validation loss decreased (0.455791 -> 0.454496). Saving the model..\n",
      "Validation loss decreased (0.454496 -> 0.453022). Saving the model..\n",
      "Validation loss decreased (0.453022 -> 0.452782). Saving the model..\n",
      "Validation loss decreased (0.452782 -> 0.452227). Saving the model..\n",
      "Epoch: 300 \tTraining Loss: 0.461718 \tTraining Accuracy: 84.85%\n",
      "Validation loss decreased (0.452227 -> 0.452181). Saving the model..\n",
      "Validation loss decreased (0.452181 -> 0.449004). Saving the model..\n",
      "Validation loss decreased (0.449004 -> 0.448521). Saving the model..\n",
      "Validation loss decreased (0.448521 -> 0.447334). Saving the model..\n",
      "Validation loss decreased (0.447334 -> 0.446768). Saving the model..\n",
      "Epoch: 400 \tTraining Loss: 0.455671 \tTraining Accuracy: 85.63%\n",
      "Validation loss decreased (0.446768 -> 0.446720). Saving the model..\n",
      "Validation loss decreased (0.446720 -> 0.446134). Saving the model..\n",
      "Validation loss decreased (0.446134 -> 0.445742). Saving the model..\n",
      "Validation loss decreased (0.445742 -> 0.444954). Saving the model..\n",
      "Validation loss decreased (0.444954 -> 0.444137). Saving the model..\n",
      "Validation loss decreased (0.444137 -> 0.443495). Saving the model..\n",
      "Validation loss decreased (0.443495 -> 0.442657). Saving the model..\n",
      "Epoch: 500 \tTraining Loss: 0.442657 \tTraining Accuracy: 87.09%\n",
      "Training ended!\n"
     ]
    }
   ],
   "source": [
    "batch_size = 64\n",
    "epochs = 500\n",
    "\n",
    "train_loss_min = np.Inf\n",
    "model.train()\n",
    "for epoch in range(epochs):\n",
    "    train_loss = 0\n",
    "    num_correct = 0\n",
    "    for idx, (data, target) in enumerate(train_loader):\n",
    "        data, target = data.to(device), target.to(device)\n",
    "        optimizer.zero_grad()\n",
    "        output = model(data)\n",
    "        loss = criterion(output, target)\n",
    "        loss.backward()\n",
    "        optimizer.step()\n",
    "\n",
    "        train_loss += loss.item() * data.size(0)\n",
    "        predict = torch.max(output, 1)[1]\n",
    "        num_correct += (predict == target).sum().item()\n",
    "\n",
    "    train_loss = train_loss / len(train_loader.dataset)\n",
    "\n",
    "    if train_loss <= train_loss_min:\n",
    "        print('Validation loss decreased ({:.6f} -> {:.6f}). Saving the model..'\n",
    "              .format(train_loss_min, train_loss))\n",
    "        torch.save(model.state_dict(), 'model.pt')\n",
    "        train_loss_min = train_loss\n",
    "    if (epoch + 1) % 100 == 0:\n",
    "        print('Epoch: {} \\tTraining Loss: {:.6f} \\tTraining Accuracy: {:.2f}%'\n",
    "              .format(epoch + 1, train_loss, num_correct / len(train_loader.dataset) * 100))\n",
    "\n",
    "print('Training ended!')"
   ]
  },
  {
   "cell_type": "code",
   "execution_count": 11,
   "id": "18c7d1cd-5a8f-4767-949d-d7ca8e306479",
   "metadata": {},
   "outputs": [],
   "source": [
    "x_test = df_test.iloc[:, 1:].values.astype('float32')\n",
    "x_test = torch.tensor(x_test).to(device)\n",
    "\n",
    "model.eval()\n",
    "with torch.no_grad():\n",
    "    result = model(x_test)\n",
    "values, labels = torch.max(result, 1)\n",
    "survived = labels.cpu().data.numpy()"
   ]
  },
  {
   "cell_type": "code",
   "execution_count": 12,
   "id": "58d08486-f2db-462b-8795-831640fad133",
   "metadata": {},
   "outputs": [],
   "source": [
    "submission = pd.DataFrame({'PassengerId': df_sub['PassengerId'], 'Survived': survived})\n",
    "submission.to_csv('submission.csv', index=False)"
   ]
  }
 ],
 "metadata": {
  "kernelspec": {
   "display_name": "Python 3",
   "language": "python",
   "name": "python3"
  },
  "language_info": {
   "codemirror_mode": {
    "name": "ipython",
    "version": 3
   },
   "file_extension": ".py",
   "mimetype": "text/x-python",
   "name": "python",
   "nbconvert_exporter": "python",
   "pygments_lexer": "ipython3",
   "version": "3.11.7"
  }
 },
 "nbformat": 4,
 "nbformat_minor": 5
}
