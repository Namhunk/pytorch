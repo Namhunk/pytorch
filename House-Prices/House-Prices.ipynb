{
 "cells": [
  {
   "cell_type": "code",
   "execution_count": 1,
   "id": "d2bd2c81-6d08-4d8d-aa74-ee4f7efcfe28",
   "metadata": {},
   "outputs": [],
   "source": [
    "import pandas as pd\n",
    "import numpy as np\n",
    "import matplotlib.pyplot as plt\n",
    "%matplotlib inline"
   ]
  },
  {
   "cell_type": "code",
   "execution_count": 2,
   "id": "05c71871-17b3-483d-9b37-388471f9d3e9",
   "metadata": {},
   "outputs": [],
   "source": [
    "df_train = pd.read_csv('house-prices-advanced-regression-techniques/train.csv')\n",
    "df_test = pd.read_csv('house-prices-advanced-regression-techniques/test.csv')\n",
    "df_sub = pd.read_csv('house-prices-advanced-regression-techniques/sample_submission.csv')"
   ]
  },
  {
   "cell_type": "code",
   "execution_count": 3,
   "id": "6993a9af-9ce2-4802-8312-0c2e389f098a",
   "metadata": {},
   "outputs": [
    {
     "data": {
      "text/plain": [
       "Index(['Id', 'SalePrice'], dtype='object')"
      ]
     },
     "execution_count": 3,
     "metadata": {},
     "output_type": "execute_result"
    }
   ],
   "source": [
    "df_sub.columns"
   ]
  },
  {
   "cell_type": "markdown",
   "id": "37bdf47b-5faf-4af2-9b39-cfffaada3d03",
   "metadata": {},
   "source": [
    "최종 출력은 Id, SalePrice"
   ]
  },
  {
   "cell_type": "code",
   "execution_count": 4,
   "id": "86b5f197-d368-4753-bece-f5f83b0980de",
   "metadata": {},
   "outputs": [],
   "source": [
    "train_ID = df_train['Id']\n",
    "test_ID = df_test['Id']\n",
    "\n",
    "y_train = pd.DataFrame(np.log(df_train['SalePrice']))\n",
    "\n",
    "df_train.drop(['Id', 'SalePrice'], axis=1, inplace=True)\n",
    "df_test.drop(['Id'], axis=1, inplace=True)"
   ]
  },
  {
   "cell_type": "code",
   "execution_count": 5,
   "id": "5fc923c4-f513-47aa-98aa-92ad1b394f9e",
   "metadata": {},
   "outputs": [
    {
     "name": "stdout",
     "output_type": "stream",
     "text": [
      "(1460, 79)\n",
      "(1459, 79)\n"
     ]
    }
   ],
   "source": [
    "print(df_train.shape)\n",
    "print(df_test.shape)"
   ]
  },
  {
   "cell_type": "code",
   "execution_count": 6,
   "id": "506e48e6-5041-4c5c-92d9-28a517b62b69",
   "metadata": {},
   "outputs": [],
   "source": [
    "num_train_cols = df_train.select_dtypes(include=['int', 'float'])\n",
    "num_test_cols = df_test.select_dtypes(include=['int', 'float'])\n",
    "\n",
    "str_train_cols = df_train.select_dtypes('object')\n",
    "str_test_cols = df_test.select_dtypes('object')"
   ]
  },
  {
   "cell_type": "code",
   "execution_count": 7,
   "id": "abdd756f-4211-4ea4-afe8-fb54d8479b6e",
   "metadata": {},
   "outputs": [
    {
     "name": "stdout",
     "output_type": "stream",
     "text": [
      "num_train_cols =  (1460, 36)\n",
      "num_test_cols =  (1459, 36)\n",
      "str_train_cols =  (1460, 43)\n",
      "str_test_cols =  (1459, 43)\n"
     ]
    }
   ],
   "source": [
    "print('num_train_cols = ',num_train_cols.shape)\n",
    "print('num_test_cols = ', num_test_cols.shape)\n",
    "print('str_train_cols = ', str_train_cols.shape)\n",
    "print('str_test_cols = ', str_test_cols.shape)"
   ]
  },
  {
   "cell_type": "code",
   "execution_count": 8,
   "id": "179c5094-d678-4186-bd52-a92dc37caa15",
   "metadata": {},
   "outputs": [],
   "source": [
    "num_train_cols = num_train_cols.fillna(0)\n",
    "num_test_cols = num_test_cols.fillna(0)\n",
    "str_train_cols = str_train_cols.fillna('None')\n",
    "str_test_cols = str_test_cols.fillna('None')"
   ]
  },
  {
   "cell_type": "code",
   "execution_count": 9,
   "id": "5dae281a-5528-40ba-8751-48509d0829f9",
   "metadata": {},
   "outputs": [
    {
     "name": "stdout",
     "output_type": "stream",
     "text": [
      "43\n",
      "43\n"
     ]
    }
   ],
   "source": [
    "print(len(str_train_cols.columns))\n",
    "print(len(str_test_cols.columns))"
   ]
  },
  {
   "cell_type": "code",
   "execution_count": 10,
   "id": "ff0d523e-dbad-4da2-a6e8-2bbecd01daea",
   "metadata": {},
   "outputs": [],
   "source": [
    "from sklearn.preprocessing import LabelEncoder\n",
    "le = LabelEncoder()\n",
    "for i in str_train_cols:\n",
    "    str_train_cols[i] = le.fit_transform(str_train_cols[i])\n",
    "    \n",
    "for i in str_test_cols:\n",
    "    str_test_cols[i] = le.fit_transform(str_test_cols[i])"
   ]
  },
  {
   "cell_type": "code",
   "execution_count": 11,
   "id": "bf312397-f87a-496f-a3c3-b500e16094be",
   "metadata": {},
   "outputs": [],
   "source": [
    "x_train = pd.concat([num_train_cols, str_train_cols], axis=1)\n",
    "x_test = pd.concat([num_test_cols, str_test_cols], axis=1)"
   ]
  },
  {
   "cell_type": "code",
   "execution_count": 12,
   "id": "2680f8ff-566f-42ba-8186-6e61f61e7a69",
   "metadata": {},
   "outputs": [],
   "source": [
    "import torch\n",
    "import torch.nn as nn\n",
    "from torch.utils.data import DataLoader, Dataset\n",
    "from torchvision import transforms\n",
    "from sklearn.preprocessing import MinMaxScaler\n",
    "\n",
    "s1 = MinMaxScaler()\n",
    "s2 = MinMaxScaler()\n",
    "\n",
    "x_train = torch.from_numpy(s1.fit_transform(x_train.values)).float()\n",
    "x_test = torch.from_numpy(s2.fit_transform(x_test.values)).float()\n",
    "\n",
    "x_train = torch.reshape(x_train, (x_train.shape[0], 1, x_train.shape[1]))\n",
    "x_test = torch.reshape(x_test, (x_test.shape[0], 1, x_test.shape[1]))\n",
    "\n",
    "y_train = torch.tensor(y_train.values).float()\n",
    "y_test = torch.zeros(df_test.shape[0], 1).float()"
   ]
  },
  {
   "cell_type": "code",
   "execution_count": 13,
   "id": "918424da-f54f-4de7-b19f-2b297492923d",
   "metadata": {},
   "outputs": [
    {
     "data": {
      "text/plain": [
       "device(type='mps', index=0)"
      ]
     },
     "execution_count": 13,
     "metadata": {},
     "output_type": "execute_result"
    }
   ],
   "source": [
    "device = torch.device('mps:0' if torch.backends.mps.is_available() else 'cpu')\n",
    "device"
   ]
  },
  {
   "cell_type": "code",
   "execution_count": 14,
   "id": "25223ec6-f593-4d82-9e39-28e1671cc072",
   "metadata": {},
   "outputs": [],
   "source": [
    "def set_seed(seed):\n",
    "    torch.manual_seed(seed)\n",
    "    if torch.backends.mps.is_available():\n",
    "        torch.mps.manual_seed(seed)\n",
    "    torch.use_deterministic_algorithms(True)\n",
    "\n",
    "set_seed(123)"
   ]
  },
  {
   "cell_type": "code",
   "execution_count": 15,
   "id": "93265645-744e-4da1-9982-8b8345d5a891",
   "metadata": {},
   "outputs": [],
   "source": [
    "class LSTM(nn.Module):\n",
    "    def __init__(self, input_size, hidden_size, output_size, num_layers):\n",
    "        super(LSTM, self).__init__()\n",
    "\n",
    "        self.input_size = input_size\n",
    "        self.hidden_size = hidden_size\n",
    "        self.output_size = output_size\n",
    "        self.num_layers = num_layers\n",
    "\n",
    "        self.lstm = nn.LSTM(input_size=input_size, hidden_size=hidden_size, num_layers=num_layers, batch_first=True)\n",
    "        self.fc1 = nn.Linear(hidden_size, hidden_size)\n",
    "        self.fc2 = nn.Linear(hidden_size, 32)\n",
    "        self.fc3 = nn.Linear(32, output_size)\n",
    "        self.relu = nn.ReLU()\n",
    "\n",
    "    def forward(self, x):\n",
    "        h0 = torch.zeros(self.num_layers, x.size(0), self.hidden_size).to(device)\n",
    "        c0 = torch.zeros(self.num_layers, x.size(0), self.hidden_size).to(device)\n",
    "        out, (hn, cn) = self.lstm(x, (h0, c0))\n",
    "        out = out.view(-1, self.hidden_size)\n",
    "        out = self.relu(out)\n",
    "        out = self.fc1(out)\n",
    "        out = self.relu(out)\n",
    "        out = self.fc2(out)\n",
    "        out = self.relu(out)\n",
    "        out = self.fc3(out)\n",
    "\n",
    "        return out\n",
    "\n",
    "model = LSTM(x_train.size(2), 64, y_train.size(1), 1).to(device)"
   ]
  },
  {
   "cell_type": "code",
   "execution_count": 16,
   "id": "16a37a01-02a8-4cae-8f2a-aeeec2bd982b",
   "metadata": {},
   "outputs": [],
   "source": [
    "criterion = nn.MSELoss()\n",
    "optimizer = torch.optim.Adam(model.parameters(), lr=2e-4)"
   ]
  },
  {
   "cell_type": "code",
   "execution_count": 17,
   "id": "cadb20b7-f47b-4466-a746-bcb36bdfc05f",
   "metadata": {},
   "outputs": [
    {
     "name": "stdout",
     "output_type": "stream",
     "text": [
      "0 : 143.68882751464844\n",
      "1000 : 0.08476003259420395\n",
      "2000 : 0.020841462537646294\n",
      "3000 : 0.013803889974951744\n",
      "4000 : 0.012601975351572037\n"
     ]
    }
   ],
   "source": [
    "epochs = 5000\n",
    "x_train = x_train.to(device)\n",
    "y_train = y_train.to(device)\n",
    "L = []\n",
    "model.train()\n",
    "for epoch in range(epochs):\n",
    "    output = model(x_train)\n",
    "    optimizer.zero_grad()\n",
    "    loss = criterion(output, y_train)\n",
    "    L.append(loss.item())\n",
    "    loss.backward()\n",
    "    optimizer.step()\n",
    "\n",
    "    if epoch % 1000 == 0:\n",
    "        print(f'{epoch} : {loss.item()}')"
   ]
  },
  {
   "cell_type": "code",
   "execution_count": 18,
   "id": "76dbcfe6-eb28-475a-9972-a428c768c4c4",
   "metadata": {},
   "outputs": [],
   "source": [
    "x_test = x_test.to(device)\n",
    "model.eval()\n",
    "with torch.no_grad():\n",
    "    result = model(x_test)\n",
    "\n",
    "df = pd.DataFrame()\n",
    "df['Id'] = test_ID\n",
    "result = np.exp((result).data.detach().cpu().numpy())\n",
    "df['SalePrice'] = result"
   ]
  },
  {
   "cell_type": "code",
   "execution_count": 19,
   "id": "842e9b81-e50d-42e2-bff6-2eae71819b1b",
   "metadata": {},
   "outputs": [],
   "source": [
    "df.to_csv('submission.csv', index=False)"
   ]
  }
 ],
 "metadata": {
  "kernelspec": {
   "display_name": "Python 3",
   "language": "python",
   "name": "python3"
  },
  "language_info": {
   "codemirror_mode": {
    "name": "ipython",
    "version": 3
   },
   "file_extension": ".py",
   "mimetype": "text/x-python",
   "name": "python",
   "nbconvert_exporter": "python",
   "pygments_lexer": "ipython3",
   "version": "3.11.7"
  }
 },
 "nbformat": 4,
 "nbformat_minor": 5
}
